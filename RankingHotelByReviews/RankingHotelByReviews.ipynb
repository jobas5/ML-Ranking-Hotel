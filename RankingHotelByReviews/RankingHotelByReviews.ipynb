{
  "nbformat": 4,
  "nbformat_minor": 0,
  "metadata": {
    "colab": {
      "name": "RankingHotelByReviews.ipynb",
      "provenance": []
    },
    "kernelspec": {
      "name": "python3",
      "display_name": "Python 3"
    },
    "language_info": {
      "name": "python"
    }
  },
  "cells": [
    {
      "cell_type": "code",
      "source": [
        "!pip install tensorflow==1.14.0"
      ],
      "metadata": {
        "colab": {
          "base_uri": "https://localhost:8080/"
        },
        "id": "-1-HMHsOBvCN",
        "outputId": "079ad379-9a33-44c2-c72a-730b4f083bcc"
      },
      "execution_count": null,
      "outputs": [
        {
          "output_type": "stream",
          "name": "stdout",
          "text": [
            "Requirement already satisfied: tensorflow==1.14.0 in /usr/local/lib/python3.7/dist-packages (1.14.0)\n",
            "Requirement already satisfied: termcolor>=1.1.0 in /usr/local/lib/python3.7/dist-packages (from tensorflow==1.14.0) (1.1.0)\n",
            "Requirement already satisfied: six>=1.10.0 in /usr/local/lib/python3.7/dist-packages (from tensorflow==1.14.0) (1.15.0)\n",
            "Requirement already satisfied: wheel>=0.26 in /usr/local/lib/python3.7/dist-packages (from tensorflow==1.14.0) (0.37.1)\n",
            "Requirement already satisfied: gast>=0.2.0 in /usr/local/lib/python3.7/dist-packages (from tensorflow==1.14.0) (0.5.3)\n",
            "Requirement already satisfied: tensorflow-estimator<1.15.0rc0,>=1.14.0rc0 in /usr/local/lib/python3.7/dist-packages (from tensorflow==1.14.0) (1.14.0)\n",
            "Requirement already satisfied: wrapt>=1.11.1 in /usr/local/lib/python3.7/dist-packages (from tensorflow==1.14.0) (1.14.0)\n",
            "Requirement already satisfied: absl-py>=0.7.0 in /usr/local/lib/python3.7/dist-packages (from tensorflow==1.14.0) (1.0.0)\n",
            "Requirement already satisfied: tensorboard<1.15.0,>=1.14.0 in /usr/local/lib/python3.7/dist-packages (from tensorflow==1.14.0) (1.14.0)\n",
            "Requirement already satisfied: numpy<2.0,>=1.14.5 in /usr/local/lib/python3.7/dist-packages (from tensorflow==1.14.0) (1.21.6)\n",
            "Requirement already satisfied: grpcio>=1.8.6 in /usr/local/lib/python3.7/dist-packages (from tensorflow==1.14.0) (1.44.0)\n",
            "Requirement already satisfied: astor>=0.6.0 in /usr/local/lib/python3.7/dist-packages (from tensorflow==1.14.0) (0.8.1)\n",
            "Requirement already satisfied: google-pasta>=0.1.6 in /usr/local/lib/python3.7/dist-packages (from tensorflow==1.14.0) (0.2.0)\n",
            "Requirement already satisfied: keras-preprocessing>=1.0.5 in /usr/local/lib/python3.7/dist-packages (from tensorflow==1.14.0) (1.1.2)\n",
            "Requirement already satisfied: keras-applications>=1.0.6 in /usr/local/lib/python3.7/dist-packages (from tensorflow==1.14.0) (1.0.8)\n",
            "Requirement already satisfied: protobuf>=3.6.1 in /usr/local/lib/python3.7/dist-packages (from tensorflow==1.14.0) (3.17.3)\n",
            "Requirement already satisfied: h5py in /usr/local/lib/python3.7/dist-packages (from keras-applications>=1.0.6->tensorflow==1.14.0) (3.1.0)\n",
            "Requirement already satisfied: markdown>=2.6.8 in /usr/local/lib/python3.7/dist-packages (from tensorboard<1.15.0,>=1.14.0->tensorflow==1.14.0) (3.3.6)\n",
            "Requirement already satisfied: setuptools>=41.0.0 in /usr/local/lib/python3.7/dist-packages (from tensorboard<1.15.0,>=1.14.0->tensorflow==1.14.0) (57.4.0)\n",
            "Requirement already satisfied: werkzeug>=0.11.15 in /usr/local/lib/python3.7/dist-packages (from tensorboard<1.15.0,>=1.14.0->tensorflow==1.14.0) (1.0.1)\n",
            "Requirement already satisfied: importlib-metadata>=4.4 in /usr/local/lib/python3.7/dist-packages (from markdown>=2.6.8->tensorboard<1.15.0,>=1.14.0->tensorflow==1.14.0) (4.11.3)\n",
            "Requirement already satisfied: typing-extensions>=3.6.4 in /usr/local/lib/python3.7/dist-packages (from importlib-metadata>=4.4->markdown>=2.6.8->tensorboard<1.15.0,>=1.14.0->tensorflow==1.14.0) (4.2.0)\n",
            "Requirement already satisfied: zipp>=0.5 in /usr/local/lib/python3.7/dist-packages (from importlib-metadata>=4.4->markdown>=2.6.8->tensorboard<1.15.0,>=1.14.0->tensorflow==1.14.0) (3.8.0)\n",
            "Requirement already satisfied: cached-property in /usr/local/lib/python3.7/dist-packages (from h5py->keras-applications>=1.0.6->tensorflow==1.14.0) (1.5.2)\n"
          ]
        }
      ]
    },
    {
      "cell_type": "code",
      "source": [
        "import tensorflow as tf\n",
        "print(tf.__version__)"
      ],
      "metadata": {
        "colab": {
          "base_uri": "https://localhost:8080/"
        },
        "id": "80aE-AdvCA0M",
        "outputId": "436f626f-025a-4dc9-a606-a5c469e121a5"
      },
      "execution_count": null,
      "outputs": [
        {
          "output_type": "stream",
          "name": "stdout",
          "text": [
            "1.14.0\n"
          ]
        }
      ]
    },
    {
      "cell_type": "code",
      "execution_count": null,
      "metadata": {
        "id": "ez1i9H_9xZTd"
      },
      "outputs": [],
      "source": [
        "import pandas as pd\n",
        "import numpy as np\n",
        "import tensorflow.contrib.keras as keras\n",
        "import matplotlib.pyplot as plt\n",
        "import os\n",
        "import sys\n",
        "import pickle\n",
        "import itertools\n",
        "import gensim\n",
        "from sklearn.model_selection import train_test_split\n",
        "from numpy import zeros\n",
        "from sklearn.metrics import classification_report, confusion_matrix\n",
        "from tensorflow.keras.preprocessing.text import text_to_word_sequence\n",
        "from gensim.models import Word2Vec\n",
        "from tensorflow.keras.models import Sequential\n",
        "from tensorflow.keras.layers import Dense\n",
        "from tensorflow.keras.layers import Flatten\n",
        "from tensorflow.keras.layers import Embedding\n",
        "from tensorflow.keras.layers import Conv1D\n",
        "from tensorflow.keras.layers import GlobalMaxPooling1D"
      ]
    },
    {
      "cell_type": "code",
      "source": [
        "from google.colab import drive\n",
        "drive.mount('/content/drive')"
      ],
      "metadata": {
        "colab": {
          "base_uri": "https://localhost:8080/"
        },
        "id": "VnuA8rsuCtBs",
        "outputId": "1b23f117-399e-4628-9bf4-8599b4467977"
      },
      "execution_count": null,
      "outputs": [
        {
          "output_type": "stream",
          "name": "stdout",
          "text": [
            "Drive already mounted at /content/drive; to attempt to forcibly remount, call drive.mount(\"/content/drive\", force_remount=True).\n"
          ]
        }
      ]
    },
    {
      "cell_type": "code",
      "source": [
        "!unzip /content/drive/MyDrive/Hotel_Reviews.csv.zip"
      ],
      "metadata": {
        "colab": {
          "base_uri": "https://localhost:8080/"
        },
        "id": "qGAAdkVE0Ki-",
        "outputId": "f0d18ccd-fa48-41d2-f063-ab0fc7f854be"
      },
      "execution_count": null,
      "outputs": [
        {
          "output_type": "stream",
          "name": "stdout",
          "text": [
            "Archive:  /content/drive/MyDrive/Hotel_Reviews.csv.zip\n",
            "replace Hotel_Reviews.csv? [y]es, [n]o, [A]ll, [N]one, [r]ename: A\n",
            "  inflating: Hotel_Reviews.csv       \n"
          ]
        }
      ]
    },
    {
      "cell_type": "code",
      "source": [
        "# Importing dataset\n",
        "reviews_df = pd.read_csv('/content/Hotel_Reviews.csv')\n",
        "print(reviews_df.dtypes)"
      ],
      "metadata": {
        "colab": {
          "base_uri": "https://localhost:8080/"
        },
        "id": "zG86CIm9DV8k",
        "outputId": "8523300b-d8a4-4fa5-eae6-4c4f477c764d"
      },
      "execution_count": null,
      "outputs": [
        {
          "output_type": "stream",
          "name": "stdout",
          "text": [
            "Hotel_Address                                  object\n",
            "Additional_Number_of_Scoring                    int64\n",
            "Review_Date                                    object\n",
            "Average_Score                                 float64\n",
            "Hotel_Name                                     object\n",
            "Reviewer_Nationality                           object\n",
            "Negative_Review                                object\n",
            "Review_Total_Negative_Word_Counts               int64\n",
            "Total_Number_of_Reviews                         int64\n",
            "Positive_Review                                object\n",
            "Review_Total_Positive_Word_Counts               int64\n",
            "Total_Number_of_Reviews_Reviewer_Has_Given      int64\n",
            "Reviewer_Score                                float64\n",
            "Tags                                           object\n",
            "days_since_review                              object\n",
            "lat                                           float64\n",
            "lng                                           float64\n",
            "dtype: object\n"
          ]
        }
      ]
    },
    {
      "cell_type": "code",
      "source": [
        "def clean(text):\n",
        "    '''\n",
        "    '''\n",
        "    text = text.lower()\n",
        "    text = text.replace(\"ain't\", \"am not\")\n",
        "    text = text.replace(\"aren't\", \"are not\")\n",
        "    text = text.replace(\"can't\", \"cannot\")\n",
        "    text = text.replace(\"can't've\", \"cannot have\")\n",
        "    text = text.replace(\"'cause\", \"because\")\n",
        "    text = text.replace(\"could've\", \"could have\")\n",
        "    text = text.replace(\"couldn't\", \"could not\")\n",
        "    text = text.replace(\"couldn't've\", \"could not have\")\n",
        "    text = text.replace(\"should've\", \"should have\")\n",
        "    text = text.replace(\"should't\", \"should not\")\n",
        "    text = text.replace(\"should't've\", \"should not have\")\n",
        "    text = text.replace(\"would've\", \"would have\")\n",
        "    text = text.replace(\"would't\", \"would not\")\n",
        "    text = text.replace(\"would't've\", \"would not have\")\n",
        "    text = text.replace(\"didn't\", \"did not\")\n",
        "    text = text.replace(\"doesn't\", \"does not\")\n",
        "    text = text.replace(\"don't\", \"do not\")\n",
        "    text = text.replace(\"hadn't\", \"had not\")\n",
        "    text = text.replace(\"hadn't've\", \"had not have\")\n",
        "    text = text.replace(\"hasn't\", \"has not\")\n",
        "    text = text.replace(\"haven't\", \"have not\")\n",
        "    text = text.replace(\"haven't\", \"have not\")\n",
        "    text = text.replace(\"haven't\", \"have not\")\n",
        "    text = text.replace(\"haven't\", \"have not\")\n",
        "    text = text.replace(\"he'd\", \"he would\")\n",
        "    text = text.replace(\"haven't\", \"have not\")\n",
        "    text = text.replace(\"he'd've\", \"he would have\")\n",
        "    text = text.replace(\"'s\", \"\")\n",
        "    text = text.replace(\"'t\", \"\")\n",
        "    text = text.replace(\"'ve\", \"\")\n",
        "    text = text.replace(\".\", \" . \")\n",
        "    text = text.replace(\"!\", \" ! \")\n",
        "    text = text.replace(\"?\", \" ? \")\n",
        "    text = text.replace(\";\", \" ; \")\n",
        "    text = text.replace(\":\", \" : \")\n",
        "    text = text.replace(\",\", \" , \")\n",
        "    text = text.replace(\"´\", \"\")\n",
        "    text = text.replace(\"‘\", \"\")\n",
        "    text = text.replace(\"’\", \"\")\n",
        "    text = text.replace(\"“\", \"\")\n",
        "    text = text.replace(\"”\", \"\")\n",
        "    text = text.replace(\"\\'\", \"\")\n",
        "    text = text.replace(\"\\\"\", \"\")\n",
        "    text = text.replace(\"-\", \"\")\n",
        "    text = text.replace(\"–\", \"\")\n",
        "    text = text.replace(\"—\", \"\")\n",
        "    text = text.replace(\"[\", \"\")\n",
        "    text = text.replace(\"]\",\"\")\n",
        "    text = text.replace(\"{\",\"\")\n",
        "    text = text.replace(\"}\", \"\")\n",
        "    text = text.replace(\"/\", \"\")\n",
        "    text = text.replace(\"|\", \"\")\n",
        "    text = text.replace(\"(\", \"\")\n",
        "    text = text.replace(\")\", \"\")\n",
        "    text = text.replace(\"$\", \"\")\n",
        "    text = text.replace(\"+\", \"\")\n",
        "    text = text.replace(\"*\", \"\")\n",
        "    text = text.replace(\"%\", \"\")\n",
        "    text = text.replace(\"#\", \"\")\n",
        "    text = text.replace(\"\\n\", \" \\n \")\n",
        "    text = text.replace(\"\\n\", \"\")\n",
        "    text = text.replace(\"_\", \" _ \")\n",
        "    text = text.replace(\"_\", \"\")\n",
        "    text = ''.join([i for i in text if not i.isdigit()])\n",
        "\n",
        "    return text\n",
        "\n",
        "positive_reviews = reviews_df['Positive_Review'].values\n",
        "negative_reviews = reviews_df['Negative_Review'].values\n",
        "\n",
        "cleaned_positive_reviews = [clean(r) for r in positive_reviews] \n",
        "cleaned_negative_reviews = [clean(r) for r in negative_reviews] \n",
        "\n",
        "reviews_df['Positive_Review'] = cleaned_positive_reviews\n",
        "reviews_df['Negative_Review'] = cleaned_negative_reviews"
      ],
      "metadata": {
        "id": "KbOGDl8DG1nH"
      },
      "execution_count": null,
      "outputs": []
    },
    {
      "cell_type": "code",
      "source": [
        "# Shuffling data\n",
        "reviews_df = reviews_df.sample(frac=1).reset_index(drop=True)\n",
        "\n",
        "# Extracting all text\n",
        "positive_reviews = reviews_df['Positive_Review'].values\n",
        "negative_reviews = reviews_df['Negative_Review'].values\n",
        "reviews_text = []\n",
        "\n",
        "for p,n in zip(positive_reviews, negative_reviews) : \n",
        "    if p in ['na', 'nothing', 'none', 'n a', 'no', 'no positive', 'no negative'] : \n",
        "        reviews_text.append(n)\n",
        "    elif n in ['na', 'nothing', 'none', 'n a', 'no', 'no positive', 'no negative'] : \n",
        "        reviews_text.append(p)\n",
        "    else : \n",
        "        reviews_text.append(n)\n",
        "        reviews_text.append(p)\n",
        "\n",
        "# Preprocessing training data\n",
        "training_df = reviews_df.loc[:1000]\n",
        "positive_reviews_filtered = training_df['Positive_Review'].values\n",
        "negative_reviews_filtered = training_df['Negative_Review'].values\n",
        "training_reviews = []\n",
        "labels = []\n",
        "\n",
        "for idx,(p,n) in enumerate(zip(positive_reviews_filtered, negative_reviews_filtered)) : \n",
        "    if p in ['na', 'nothing', 'none', 'n a', 'no', 'no positive', 'no negative'] : \n",
        "        training_reviews.append(n)\n",
        "        labels.append(0)\n",
        "    elif n in ['na', 'nothing', 'none', 'n a', 'no', 'no positive', 'no negative'] :\n",
        "        training_reviews.append(p)\n",
        "        labels.append(1)\n",
        "    else :\n",
        "        training_reviews.append(n)\n",
        "        labels.append(0)\n",
        "        training_reviews.append(p)\n",
        "        labels.append(1)\n",
        "\n",
        "# Creating datasets\n",
        "dict1 ={\n",
        "    'reviews' : training_reviews,\n",
        "    'labels' : labels\n",
        "}\n",
        "sentiment_df = pd.DataFrame.from_dict(dict1)\n",
        "\n",
        "\n",
        "dict2 ={\n",
        "    'reviews_text' : reviews_text\n",
        "}\n",
        "reviews_text_df = pd.DataFrame.from_dict(dict2)"
      ],
      "metadata": {
        "id": "DD_Ub_lDHD8h"
      },
      "execution_count": null,
      "outputs": []
    },
    {
      "cell_type": "code",
      "source": [
        "text_reviews = [str(r) for r in reviews_text_df['reviews_text'].values]\n",
        "\n",
        "sentences = []\n",
        "\n",
        "for review in text_reviews:\n",
        "    words = text_to_word_sequence(review)\n",
        "    sentences.append(words)\n",
        "\n",
        "embeddings_model = Word2Vec(sentences, min_count=1, sg=1, size=128)\n",
        "words = list(embeddings_model.wv.vocab)\n",
        "print('{} WORDS '.format(len(words)))\n",
        "print('Printing first 100:')\n",
        "print(words[:100])"
      ],
      "metadata": {
        "colab": {
          "base_uri": "https://localhost:8080/"
        },
        "id": "lG-XKONgHGXg",
        "outputId": "79cee027-2fdb-45bb-c666-54bf65f58ca8"
      },
      "execution_count": null,
      "outputs": [
        {
          "output_type": "stream",
          "name": "stdout",
          "text": [
            "76904 WORDS \n",
            "Printing first 100:\n",
            "['nothing', 'very', 'nice', 'hotel', 'best', 'location', 'friendly', 'and', 'helpful', 'staff', 'air', 'conditioning', 'would', 'have', 'been', 'a', 'welcome', 'addition', 'only', 'plugs', 'in', 'the', 'room', 'not', 'nearly', 'enough', 'with', 'selection', 'of', 'phones', 'ipads', 'cameras', 'to', 'charge', 'efficient', 'fridge', 'was', 'great', 'for', 'cold', 'drinks', 'as', 'weather', 'hot', 'sticky', 'garden', 'quiet', 'but', 'central', 'plenty', 'shops', 'restaurants', 'close', 'by', 'shampoos', 'etc', 'provided', 'were', 'good', 'quality', 'excellent', 'breakfast', 'luggage', 'storage', 'facility', 'after', 'check', 'out', 'useful', 'small', 'bathroom', 'extremely', 'comfortable', 'bed', 'two', 'beds', 'together', 'is', 'same', 'than', 'king', 'it', 'should', 'be', 'must', 'when', 'you', 'pay', 'per', 'nite', 'lobby', 'smell', 'smoke', 'allowed', 'bar', 'didnt', 'replace', 'amenitties', 'shower', 'they']\n"
          ]
        }
      ]
    },
    {
      "cell_type": "code",
      "source": [
        "# Querying SQLlite database to extract needed words embeddings\n",
        "tokenizer = keras.preprocessing.text.Tokenizer()\n",
        "tokenizer.fit_on_texts(text_reviews)\n",
        "vocabSize = len(tokenizer.word_index) + 1"
      ],
      "metadata": {
        "id": "oqb5ljN9Im1B"
      },
      "execution_count": null,
      "outputs": []
    },
    {
      "cell_type": "code",
      "source": [
        "# Recreating embeddings index based on Tokenizer vocabulary\n",
        "word2vec_vocabulary = embeddings_model.wv.vocab\n",
        "embeddingIndex = dict()\n",
        "counter = 0\n",
        "for word, i in tokenizer.word_index.items():\n",
        "    if word in word2vec_vocabulary :\n",
        "        embeddingIndex[word] = embeddings_model[word]\n",
        "    else:\n",
        "        counter += 1\n",
        "\n",
        "print(\"{} words without pre-trained embedding!\".format(counter))\n",
        "    \n",
        "# Prepare embeddings matrix\n",
        "embeddingMatrix = zeros((vocabSize, 128))\n",
        "for word, i in tokenizer.word_index.items():\n",
        "    embeddingVector = embeddingIndex.get(word)\n",
        "    if embeddingVector is not None:\n",
        "        embeddingMatrix[i] = embeddingVector"
      ],
      "metadata": {
        "colab": {
          "base_uri": "https://localhost:8080/"
        },
        "id": "if4SwGyiIu5v",
        "outputId": "65d9ceb4-0430-480d-819e-84b3982d5f27"
      },
      "execution_count": null,
      "outputs": [
        {
          "output_type": "stream",
          "name": "stderr",
          "text": [
            "/usr/local/lib/python3.7/dist-packages/ipykernel_launcher.py:7: DeprecationWarning: Call to deprecated `__getitem__` (Method will be removed in 4.0.0, use self.wv.__getitem__() instead).\n",
            "  import sys\n"
          ]
        },
        {
          "output_type": "stream",
          "name": "stdout",
          "text": [
            "0 words without pre-trained embedding!\n"
          ]
        }
      ]
    },
    {
      "cell_type": "code",
      "source": [
        "reviews = [ str(r) for r in sentiment_df['reviews'].values]\n",
        "labels = sentiment_df['labels'].values\n",
        "\n",
        "oneHotReviews = tokenizer.texts_to_sequences(reviews)\n",
        "encodedReviews = keras.preprocessing.sequence.pad_sequences(oneHotReviews, maxlen=40, padding='post')\n",
        "\n",
        "X_train, X_test, y_train, y_test = train_test_split(encodedReviews, labels, test_size=0.33, random_state=42)"
      ],
      "metadata": {
        "id": "n9rSD3YwIzVA"
      },
      "execution_count": null,
      "outputs": []
    },
    {
      "cell_type": "code",
      "source": [
        "# define neural network\n",
        "CNN = keras.models.Sequential()\n",
        "CNN.add(keras.layers.Embedding(vocabSize, 128,weights=[embeddingMatrix], input_length=40, trainable=True))\n",
        "CNN.add(Conv1D(128, 2, activation='relu'))\n",
        "CNN.add(GlobalMaxPooling1D())\n",
        "CNN.add(Flatten())\n",
        "CNN.add(Dense(1, activation='sigmoid'))\n",
        "CNN.compile(optimizer='adam', loss='binary_crossentropy', metrics=['acc'])\n",
        "CNN.fit(X_train, y_train, epochs=5, verbose=1)"
      ],
      "metadata": {
        "colab": {
          "base_uri": "https://localhost:8080/"
        },
        "id": "ph0LOR4HI10C",
        "outputId": "957e9107-aa88-4825-aa6b-ffb15bcb146c"
      },
      "execution_count": null,
      "outputs": [
        {
          "output_type": "stream",
          "name": "stdout",
          "text": [
            "WARNING:tensorflow:From /usr/local/lib/python3.7/dist-packages/tensorflow/python/keras/initializers.py:119: calling RandomUniform.__init__ (from tensorflow.python.ops.init_ops) with dtype is deprecated and will be removed in a future version.\n",
            "Instructions for updating:\n",
            "Call initializer instance with the dtype argument instead of passing it to the constructor\n",
            "WARNING:tensorflow:From /usr/local/lib/python3.7/dist-packages/tensorflow/python/ops/init_ops.py:1251: calling VarianceScaling.__init__ (from tensorflow.python.ops.init_ops) with dtype is deprecated and will be removed in a future version.\n",
            "Instructions for updating:\n",
            "Call initializer instance with the dtype argument instead of passing it to the constructor\n",
            "WARNING:tensorflow:From /usr/local/lib/python3.7/dist-packages/tensorflow/python/ops/nn_impl.py:180: add_dispatch_support.<locals>.wrapper (from tensorflow.python.ops.array_ops) is deprecated and will be removed in a future version.\n",
            "Instructions for updating:\n",
            "Use tf.where in 2.0, which has the same broadcast rule as np.where\n",
            "Epoch 1/5\n",
            "1144/1144 [==============================] - 7s 6ms/sample - loss: 0.4808 - acc: 0.7867\n",
            "Epoch 2/5\n",
            "1144/1144 [==============================] - 6s 5ms/sample - loss: 0.2521 - acc: 0.9100\n",
            "Epoch 3/5\n",
            "1144/1144 [==============================] - 6s 5ms/sample - loss: 0.1848 - acc: 0.9327\n",
            "Epoch 4/5\n",
            "1144/1144 [==============================] - 7s 6ms/sample - loss: 0.1449 - acc: 0.9545\n",
            "Epoch 5/5\n",
            "1144/1144 [==============================] - 7s 6ms/sample - loss: 0.1136 - acc: 0.9685\n"
          ]
        },
        {
          "output_type": "execute_result",
          "data": {
            "text/plain": [
              "<tensorflow.python.keras.callbacks.History at 0x7f1dc0a81ed0>"
            ]
          },
          "metadata": {},
          "execution_count": 17
        }
      ]
    },
    {
      "cell_type": "code",
      "source": [
        "loss, accuracy = CNN.evaluate(X_test, y_test, verbose=1)\n",
        "print('Test Loss: {}'.format(loss))\n",
        "print('Test Accuracy: {}'.format(accuracy))"
      ],
      "metadata": {
        "colab": {
          "base_uri": "https://localhost:8080/"
        },
        "id": "YOZyaEj4JG0l",
        "outputId": "b8acd46b-132d-43fd-a139-88c69555536f"
      },
      "execution_count": null,
      "outputs": [
        {
          "output_type": "stream",
          "name": "stdout",
          "text": [
            "564/564 [==============================] - 0s 319us/sample - loss: 0.2763 - acc: 0.9007\n",
            "Test Loss: 0.27629820865096777\n",
            "Test Accuracy: 0.9007092118263245\n"
          ]
        }
      ]
    },
    {
      "cell_type": "code",
      "source": [
        "predictions = CNN.predict_classes(X_test)\n",
        "\n",
        "cm = confusion_matrix(y_test, predictions, labels=[0,1])\n",
        "title = 'Confusion matrix'\n",
        "cmap = plt.cm.Blues\n",
        "classes=[\"negative\",\"positive\"]\n",
        "plt.imshow(cm, interpolation='nearest', cmap=cmap)\n",
        "plt.title(title)\n",
        "plt.colorbar()\n",
        "tick_marks = np.arange(len(classes))\n",
        "plt.xticks(tick_marks, classes, rotation=45)\n",
        "plt.yticks(tick_marks, classes)\n",
        "\n",
        "fmt = '.2f'\n",
        "thresh = cm.max() / 2.\n",
        "for i, j in itertools.product(range(cm.shape[0]), range(cm.shape[1])):\n",
        "    plt.text(j, i, format(cm[i, j], fmt),\n",
        "             horizontalalignment=\"center\",\n",
        "             color=\"white\" if cm[i, j] > thresh else \"black\")\n",
        "\n",
        "plt.ylabel('True label')\n",
        "plt.xlabel('Predicted label')\n",
        "plt.tight_layout()\n",
        "plt.show()"
      ],
      "metadata": {
        "colab": {
          "base_uri": "https://localhost:8080/",
          "height": 297
        },
        "id": "_QOMR609JKNU",
        "outputId": "b215cd54-3f4a-443b-ad7b-cd59a5c70be2"
      },
      "execution_count": null,
      "outputs": [
        {
          "output_type": "display_data",
          "data": {
            "text/plain": [
              "<Figure size 432x288 with 2 Axes>"
            ],
            "image/png": "[encoded data removed]"
          },
          "metadata": {
            "needs_background": "light"
          }
        }
      ]
    },
    {
      "cell_type": "code",
      "source": [
        "report = classification_report(y_test, predictions, target_names=['0','1'])\n",
        "print(report)"
      ],
      "metadata": {
        "colab": {
          "base_uri": "https://localhost:8080/"
        },
        "id": "ZYnImd79JN02",
        "outputId": "e08f412d-84da-44ad-8a29-39938a28444f"
      },
      "execution_count": null,
      "outputs": [
        {
          "output_type": "stream",
          "name": "stdout",
          "text": [
            "              precision    recall  f1-score   support\n",
            "\n",
            "           0       0.88      0.89      0.89       248\n",
            "           1       0.91      0.91      0.91       316\n",
            "\n",
            "    accuracy                           0.90       564\n",
            "   macro avg       0.90      0.90      0.90       564\n",
            "weighted avg       0.90      0.90      0.90       564\n",
            "\n"
          ]
        }
      ]
    },
    {
      "cell_type": "code",
      "source": [
        "positive_reviews = [str(r) for r in reviews_df['Positive_Review'].values]\n",
        "\n",
        "for idx, review in enumerate(positive_reviews):\n",
        "    words = text_to_word_sequence(review)     \n",
        "    if(len(words) > 40): \n",
        "        words = words[:40]\n",
        "        positive_reviews[idx] = ' '.join(words)\n",
        "\n",
        "oneHotPositiveReviews = tokenizer.texts_to_sequences(positive_reviews)\n",
        "encodedPositiveReviews = keras.preprocessing.sequence.pad_sequences(oneHotPositiveReviews, maxlen=40, padding='post')\n",
        "\n",
        "\n",
        "positivity_predictions = CNN.predict_proba(encodedPositiveReviews)\n",
        "\n",
        "plt.hist(positivity_predictions, bins=30)\n",
        "plt.xlabel('Positivity scores');\n",
        "plt.show() "
      ],
      "metadata": {
        "colab": {
          "base_uri": "https://localhost:8080/",
          "height": 279
        },
        "id": "mLAvb0cjJP6d",
        "outputId": "d3e9343b-2bdd-4d77-89e8-ef6a90c6f58c"
      },
      "execution_count": null,
      "outputs": [
        {
          "output_type": "display_data",
          "data": {
            "text/plain": [
              "<Figure size 432x288 with 1 Axes>"
            ],
            "image/png": "[encoded data removed]"
          },
          "metadata": {
            "needs_background": "light"
          }
        }
      ]
    },
    {
      "cell_type": "code",
      "source": [
        "negative_reviews = [str(r) for r in reviews_df['Negative_Review'].values]\n",
        "\n",
        "for idx, review in enumerate(negative_reviews):\n",
        "    words = text_to_word_sequence(review)      \n",
        "    if(len(words) > 40): \n",
        "        words = words[:40]\n",
        "        negative_reviews[idx] = ' '.join(words)\n",
        "\n",
        "oneHotNegativeReviews = tokenizer.texts_to_sequences(negative_reviews)\n",
        "encodedNegativeReviews = keras.preprocessing.sequence.pad_sequences(oneHotNegativeReviews, maxlen=40, padding='post')\n",
        "\n",
        "\n",
        "negativity_predictions = CNN.predict_proba(encodedNegativeReviews)\n",
        "    \n",
        "# print(negativity_predictions)\n",
        "plt.hist(negativity_predictions, bins=30)\n",
        "plt.xlabel('Negativity scores');\n",
        "plt.show() "
      ],
      "metadata": {
        "colab": {
          "base_uri": "https://localhost:8080/",
          "height": 279
        },
        "id": "1WzbIqYKJjTW",
        "outputId": "0531e7fc-b5c0-41e8-d756-fb4f7123b2d8"
      },
      "execution_count": null,
      "outputs": [
        {
          "output_type": "display_data",
          "data": {
            "text/plain": [
              "<Figure size 432x288 with 1 Axes>"
            ],
            "image/png": "[encoded data removed]"
          },
          "metadata": {
            "needs_background": "light"
          }
        }
      ]
    },
    {
      "cell_type": "code",
      "source": [
        "negative_reviews = reviews_df['Negative_Review'].values\n",
        "positive_reviews = reviews_df['Positive_Review'].values\n",
        "\n",
        "missing = ['na', 'nothing', 'none', 'n a', 'no', 'no positive', 'no negative']\n",
        "\n",
        "for idx, (text,score) in enumerate(zip(positive_reviews, positivity_predictions)):\n",
        "    if text in missing : positivity_predictions[idx] = 0.0\n",
        "    elif score < 0.5 : positivity_predictions[idx] = 0.501\n",
        "\n",
        "for idx, (text,score) in enumerate(zip(negative_reviews, negativity_predictions)):\n",
        "    if text in missing : negativity_predictions[idx] = 1.0\n",
        "    elif score > 0.5 : negativity_predictions[idx] = 0.499\n",
        "\n",
        "# Printing final distributions\n",
        "fig, axes = plt.subplots(nrows=1, ncols=2, constrained_layout=True)\n",
        "axes[0].hist(negativity_predictions, color='red', bins=30)\n",
        "axes[1].hist(positivity_predictions, color='green', bins=30)\n",
        "plt.show() "
      ],
      "metadata": {
        "colab": {
          "base_uri": "https://localhost:8080/",
          "height": 313
        },
        "id": "_Sh-yxLkJy_b",
        "outputId": "d8144f0a-9a31-4446-921d-1e05f8f7d095"
      },
      "execution_count": null,
      "outputs": [
        {
          "output_type": "display_data",
          "data": {
            "text/plain": [
              "<Figure size 432x288 with 2 Axes>"
            ],
            "image/png": "[encoded data removed]"
          },
          "metadata": {
            "needs_background": "light"
          }
        }
      ]
    },
    {
      "cell_type": "code",
      "source": [
        "reviews_df['Negative_Review_Score'] = negativity_predictions\n",
        "reviews_df['Positive_Review_Score'] = positivity_predictions\n",
        "reviews_df['Sentiment_Review_Score'] = (positivity_predictions+negativity_predictions)/2\n",
        "\n",
        "positive_reviews = reviews_df['Positive_Review']\n",
        "negative_reviews = reviews_df['Negative_Review']\n",
        "sentiment_scores = reviews_df['Sentiment_Review_Score']\n",
        "reviewer_score = reviews_df['Reviewer_Score']\n",
        "\n",
        "print('Positive review: {}'.format(reviews_df['Positive_Review'][100]))\n",
        "print('Negative review: {}'.format(reviews_df['Negative_Review'][100]))\n",
        "print('Sentiment score: {}'.format(reviews_df['Sentiment_Review_Score'][100]))\n",
        "print('Reviewer score: {}'.format(reviews_df['Reviewer_Score'][100]))"
      ],
      "metadata": {
        "colab": {
          "base_uri": "https://localhost:8080/"
        },
        "id": "BgDKOeXjJ4n8",
        "outputId": "5cd30c3a-a470-4738-d813-befc0323083d"
      },
      "execution_count": null,
      "outputs": [
        {
          "output_type": "stream",
          "name": "stdout",
          "text": [
            "Positive review:  the location of this hotel was very good and very close to the duomo it s very clean almost all of the staff were so nice and helpful\n",
            "Negative review:  it was too noisy we keep hearing high heel steps day and night one of the reciptionists was a bit mean\n",
            "Sentiment score: 0.4969569444656372\n",
            "Reviewer score: 7.5\n"
          ]
        }
      ]
    },
    {
      "cell_type": "code",
      "source": [
        "target = []\n",
        "final_scores = reviews_df['Sentiment_Review_Score'].values\n",
        "\n",
        "for f in final_scores : \n",
        "    if f >= 0.7 : target.append(4)\n",
        "    elif f < 0.7 and f >= 0.5 : target.append(3)\n",
        "    elif f < 0.5 and f >= 0.3 : target.append(2)\n",
        "    else: target.append(1)\n",
        "\n",
        "reviews_df['Sentiment_Review_Class'] = target"
      ],
      "metadata": {
        "id": "eO5BbOQTJ-O2"
      },
      "execution_count": null,
      "outputs": []
    },
    {
      "cell_type": "code",
      "source": [
        "reviews_best = reviews_df[reviews_df['Sentiment_Review_Class'] == 4]['Positive_Review'].values\n",
        "print('Number of best reviews:  {}'.format(len(reviews_best)))\n",
        "      \n",
        "reviews_good = reviews_df[reviews_df['Sentiment_Review_Class'] == 3]['Positive_Review'].values\n",
        "print('Number of good reviews:  {}'.format(len(reviews_good)))\n",
        "      \n",
        "reviews_bad = reviews_df[reviews_df['Sentiment_Review_Class'] == 2]['Negative_Review'].values\n",
        "print('Number of bad reviews:   {}'.format(len(reviews_bad)))\n",
        "      \n",
        "reviews_worst = reviews_df[reviews_df['Sentiment_Review_Class'] == 1]['Negative_Review'].values\n",
        "print('Number of worst reviews: {}'.format(len(reviews_worst)))\n",
        "\n",
        "fig, ax = plt.subplots()\n",
        "x = ['Worst','Bad', 'Good', 'Best']\n",
        "y = [len(reviews_worst),len(reviews_bad),len(reviews_good),len(reviews_best)]\n",
        "vert_bars = ax.bar(x, y, color='steelblue', align='center')\n",
        "plt.show()"
      ],
      "metadata": {
        "colab": {
          "base_uri": "https://localhost:8080/",
          "height": 334
        },
        "id": "cwiG8yUpKC1z",
        "outputId": "43cce5db-be43-4ff6-dba1-aedd83f552f5"
      },
      "execution_count": null,
      "outputs": [
        {
          "output_type": "stream",
          "name": "stdout",
          "text": [
            "Number of best reviews:  161713\n",
            "Number of good reviews:  220481\n",
            "Number of bad reviews:   82296\n",
            "Number of worst reviews: 51248\n"
          ]
        },
        {
          "output_type": "display_data",
          "data": {
            "text/plain": [
              "<Figure size 432x288 with 1 Axes>"
            ],
            "image/png": "[encoded data removed]"
          },
          "metadata": {
            "needs_background": "light"
          }
        }
      ]
    },
    {
      "cell_type": "code",
      "source": [
        "worst_hotels = reviews_df.groupby('Hotel_Name')['Sentiment_Review_Score'].mean().sort_values(ascending=False).head(10)\n",
        "worst_hotels.plot(kind=\"bar\",color=\"DarkGreen\")\n",
        "_=plt.xlabel('Best Hotels according to Reviews')\n",
        "_=plt.ylabel('Average Review Score')\n",
        "plt.show()\n",
        "\n",
        "reviews_df.groupby('Hotel_Name')['Sentiment_Review_Score'].mean().sort_values(ascending=False).head(10)\n"
      ],
      "metadata": {
        "colab": {
          "base_uri": "https://localhost:8080/",
          "height": 652
        },
        "id": "u384kt2zKFO9",
        "outputId": "481e9378-8837-4dba-b48d-89fab3d8f553"
      },
      "execution_count": null,
      "outputs": [
        {
          "output_type": "display_data",
          "data": {
            "text/plain": [
              "<Figure size 432x288 with 1 Axes>"
            ],
            "image/png": "[encoded data removed]"
          },
          "metadata": {
            "needs_background": "light"
          }
        },
        {
          "output_type": "execute_result",
          "data": {
            "text/plain": [
              "Hotel_Name\n",
              "H tel Fabric                          0.784224\n",
              "Hotel Wagner                          0.778782\n",
              "Hotel Eiffel Blomet                   0.768251\n",
              "Windermere Hotel                      0.759877\n",
              "Hotel Le Six                          0.758617\n",
              "Relais Du Louvre                      0.749086\n",
              "Boutiquehotel Das Tyrol               0.748886\n",
              "Hotel Dupond Smith                    0.748742\n",
              "Hotel Villa Lafayette Paris IX        0.738531\n",
              "Small Luxury Hotel Altstadt Vienna    0.736115\n",
              "Name: Sentiment_Review_Score, dtype: float32"
            ]
          },
          "metadata": {},
          "execution_count": 27
        }
      ]
    },
    {
      "cell_type": "code",
      "source": [
        "worst_hotels = reviews_df.groupby('Hotel_Name')['Sentiment_Review_Score'].mean().sort_values(ascending=True).head(10)\n",
        "worst_hotels.plot(kind=\"bar\",color=\"DarkRed\")\n",
        "_=plt.xlabel('Worst Hotels according to Reviews')\n",
        "_=plt.ylabel('Average Review Score')\n",
        "plt.show()\n",
        "\n",
        "reviews_df.groupby('Hotel_Name')['Sentiment_Review_Score'].mean().sort_values(ascending=True).head(10)"
      ],
      "metadata": {
        "id": "J_6-EvUjKG4b",
        "outputId": "d2100bee-244e-429d-b6fe-226890495e18",
        "colab": {
          "base_uri": "https://localhost:8080/",
          "height": 709
        }
      },
      "execution_count": null,
      "outputs": [
        {
          "output_type": "display_data",
          "data": {
            "text/plain": [
              "<Figure size 432x288 with 1 Axes>"
            ],
            "image/png": "[encoded data removed]"
          },
          "metadata": {
            "needs_background": "light"
          }
        },
        {
          "output_type": "execute_result",
          "data": {
            "text/plain": [
              "Hotel_Name\n",
              "Hotel Liberty                                   0.391513\n",
              "Savoy Hotel Amsterdam                           0.430992\n",
              "Best Western Maitrise Hotel Edgware Road        0.431721\n",
              "Villa Lut ce Port Royal                         0.439647\n",
              "Ibis Styles Milano Palmanova                    0.443611\n",
              "Villa Eugenie                                   0.443982\n",
              "Hallmark Hotel London Chigwell Prince Regent    0.462858\n",
              "AC Hotel Irla a Marriott Lifestyle Hotel        0.466471\n",
              "Gran Hotel Barcino                              0.472703\n",
              "Mercure Paris Porte d Orleans                   0.475848\n",
              "Name: Sentiment_Review_Score, dtype: float32"
            ]
          },
          "metadata": {},
          "execution_count": 28
        }
      ]
    }
  ]
}